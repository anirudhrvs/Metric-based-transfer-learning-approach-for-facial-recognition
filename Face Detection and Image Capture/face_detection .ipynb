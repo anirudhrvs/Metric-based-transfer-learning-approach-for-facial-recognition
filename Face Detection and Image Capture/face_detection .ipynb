{
 "cells": [
  {
   "cell_type": "markdown",
   "metadata": {},
   "source": [
    "# Face Detection"
   ]
  },
  {
   "cell_type": "code",
   "execution_count": 1,
   "metadata": {},
   "outputs": [],
   "source": [
    "import cv2\n",
    "import os"
   ]
  },
  {
   "cell_type": "code",
   "execution_count": 2,
   "metadata": {},
   "outputs": [],
   "source": [
    " cascade= cv2.CascadeClassifier('haarcascade_frontalface_default.xml')"
   ]
  },
  {
   "cell_type": "code",
   "execution_count": 3,
   "metadata": {},
   "outputs": [],
   "source": [
    "def face_detection(img, draw_box=True):\n",
    "    global x,y, w, h\n",
    "    gray_img= cv2.cvtColor(img, cv2.COLOR_BGR2GRAY)\n",
    "    \n",
    "    face= cascade.detectMultiScale(gray_img, scaleFactor=1.6)\n",
    "    \n",
    "    for (x, y, w, h) in face:\n",
    "        if draw_box:\n",
    "            cv2.rectangle(img, (x,y), (x+w, y+h), (0,255,0), 5)\n",
    "        \n",
    "    face_box= img[y:y+h, x:x+w]\n",
    "        \n",
    "    face_coords= [x, y, w, h]\n",
    "        \n",
    "    return img, face_box, face_coords    "
   ]
  },
  {
   "cell_type": "code",
   "execution_count": 5,
   "metadata": {},
   "outputs": [],
   "source": [
    "files= os.listdir('face_det_dataset')\n",
    "\n",
    "images= [file for file in files if 'jpg' in file]\n",
    "\n",
    "for image in images:\n",
    "    img= cv2.imread('face_det_dataset/'+image)\n",
    "    detected_faces, _, _ = face_detection(img)\n",
    "    cv2.imwrite('face_det_dataset/detected_faces/'+ image, detected_faces)\n",
    "    "
   ]
  },
  {
   "cell_type": "markdown",
   "metadata": {},
   "source": [
    "# Capturing the image"
   ]
  },
  {
   "cell_type": "code",
   "execution_count": 6,
   "metadata": {},
   "outputs": [],
   "source": [
    "video_capture= cv2.VideoCapture(0)\n",
    "\n",
    "import math"
   ]
  },
  {
   "cell_type": "code",
   "execution_count": 7,
   "metadata": {},
   "outputs": [],
   "source": [
    "def write_on_frame(frame, text, text_x, text_y):\n",
    "    (text_width, text_height) = cv2.getTextSize(text, cv2.FONT_HERSHEY_SIMPLEX, fontScale=1, thickness=2)[0]\n",
    "    box_coords = ((text_x, text_y), (text_x+text_width+20, text_y-text_height-20))\n",
    "    cv2.rectangle(frame, box_coords[0], box_coords[1], (255, 255, 255), cv2.FILLED)\n",
    "    cv2.putText(frame, text, (text_x, text_y-10), cv2.FONT_HERSHEY_SIMPLEX, fontScale=1, color=(0,0,0), thickness=2)\n",
    "    return frame"
   ]
  },
  {
   "cell_type": "code",
   "execution_count": 8,
   "metadata": {},
   "outputs": [
    {
     "name": "stdout",
     "output_type": "stream",
     "text": [
      "Image Captured\n"
     ]
    }
   ],
   "source": [
    "counter=10\n",
    "\n",
    "while True:\n",
    "    _, frame= video_capture.read()\n",
    "    \n",
    "    frame, face_box, face_coords= face_detection(frame)\n",
    "    \n",
    "    text= 'Image will be taken in{}...'. format(math.ceil(counter))\n",
    "    \n",
    "    if face_box is not None:\n",
    "        frame= write_on_frame(frame, text, face_coords[0], face_coords[1]-10)\n",
    "        \n",
    "        cv2.imshow('Video', frame)\n",
    "    \n",
    "    cv2.waitKey(1)\n",
    "    \n",
    "    counter -= 0.1\n",
    "    \n",
    "    if counter <= 0:\n",
    "        cv2.imwrite('true_img12.png', face_box)\n",
    "        break\n",
    "\n",
    "# Releasing the capture\n",
    "video_capture.release()\n",
    "cv2.destroyAllWindows()\n",
    "print(\"Image Captured\")"
   ]
  },
  {
   "cell_type": "code",
   "execution_count": null,
   "metadata": {},
   "outputs": [],
   "source": []
  },
  {
   "cell_type": "code",
   "execution_count": null,
   "metadata": {},
   "outputs": [],
   "source": []
  }
 ],
 "metadata": {
  "kernelspec": {
   "display_name": "Python 3",
   "language": "python",
   "name": "python3"
  },
  "language_info": {
   "codemirror_mode": {
    "name": "ipython",
    "version": 3
   },
   "file_extension": ".py",
   "mimetype": "text/x-python",
   "name": "python",
   "nbconvert_exporter": "python",
   "pygments_lexer": "ipython3",
   "version": "3.7.6"
  }
 },
 "nbformat": 4,
 "nbformat_minor": 4
}
